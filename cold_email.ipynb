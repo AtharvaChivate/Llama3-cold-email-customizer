{
 "cells": [
  {
   "cell_type": "code",
   "execution_count": 1,
   "id": "88b9d338-8de1-49b4-9f27-6b14965fa19d",
   "metadata": {},
   "outputs": [],
   "source": [
    "# pip install langchain\n",
    "#%pip install -qU langchain-groq\n",
    "# %pip install pandas\n",
    "#install Langchain community package\n",
    "# %pip install -qU langchain_community beautifulsoup4"
   ]
  },
  {
   "cell_type": "code",
   "execution_count": 2,
   "id": "d8784cbd-8bac-4de5-9b5a-1d2842f056fd",
   "metadata": {},
   "outputs": [],
   "source": [
    "from langchain_groq import ChatGroq\n",
    "import os\n",
    "from dotenv import load_dotenv\n",
    "load_dotenv()\n",
    "\n",
    "llm = ChatGroq(\n",
    "    model=\"llama3-70b-8192\",\n",
    "    temperature=0,\n",
    "    groq_api_key = os.getenv(\"API_KEY\")\n",
    ")"
   ]
  },
  {
   "cell_type": "code",
   "execution_count": 3,
   "id": "83136e90-e9e5-4c96-b915-6baa3ec0d3d7",
   "metadata": {},
   "outputs": [],
   "source": [
    "response = llm.invoke(\"What are some other methods in the ChatGroq other than temperature, n_results? Don't include any asterisk symbol in the answer.\") "
   ]
  },
  {
   "cell_type": "code",
   "execution_count": 4,
   "id": "a9ac5cc1-bc28-41ff-ad0f-0a7911c93872",
   "metadata": {
    "scrolled": true
   },
   "outputs": [
    {
     "name": "stdout",
     "output_type": "stream",
     "text": [
      "Here are some other methods in the ChatGroq model:\n",
      "\n",
      "1. max_tokens: This parameter controls the maximum number of tokens in the generated response.\n",
      "2. top_p: This parameter controls the diversity of the generated response by specifying the top p tokens to consider at each step.\n",
      "3. presence_penalty: This parameter penalizes the model for repeating the same token multiple times in the generated response.\n",
      "4. frequency_penalty: This parameter penalizes the model for generating tokens that have already been generated in the response.\n",
      "5. stop: This parameter specifies a sequence of tokens that, if generated, will stop the generation process.\n",
      "6. eos_token: This parameter specifies the end-of-sequence token that will be appended to the generated response.\n",
      "7. pad_token: This parameter specifies the padding token that will be used to pad the input sequence to the maximum length.\n",
      "8. length_penalty: This parameter controls the penalty for generating longer responses.\n",
      "9. no_repeat_ngram_size: This parameter specifies the size of the n-gram that cannot be repeated in the generated response.\n",
      "\n",
      "These parameters can be used to fine-tune the generation process and control the output of the ChatGroq model.\n"
     ]
    }
   ],
   "source": [
    "print(response.content)"
   ]
  },
  {
   "cell_type": "code",
   "execution_count": 5,
   "id": "6921069d-c4e8-42aa-83ec-f25cc8f565b8",
   "metadata": {},
   "outputs": [
    {
     "name": "stderr",
     "output_type": "stream",
     "text": [
      "USER_AGENT environment variable not set, consider setting it to identify your requests.\n"
     ]
    }
   ],
   "source": [
    "from langchain_community.document_loaders import WebBaseLoader\n",
    "\n",
    "loader = WebBaseLoader(\"https://careers.ibm.com/job/20957333/software-developer-ahmedabad-in/\")\n",
    "\n",
    "page_data = loader.load().pop().page_content\n",
    "\n",
    "# print(page_data)"
   ]
  },
  {
   "cell_type": "markdown",
   "id": "6493a28e",
   "metadata": {},
   "source": [
    "Make a list of all your dependencies so that they are easily available to others."
   ]
  },
  {
   "cell_type": "code",
   "execution_count": 6,
   "id": "a3c90350-6b1e-45bd-801b-71dcf17575b0",
   "metadata": {},
   "outputs": [],
   "source": [
    "# pip freeze > requirements.txt"
   ]
  },
  {
   "cell_type": "code",
   "execution_count": 7,
   "id": "2e840e15",
   "metadata": {},
   "outputs": [
    {
     "name": "stdout",
     "output_type": "stream",
     "text": [
      "Here is the extracted job posting in JSON format:\n",
      "\n",
      "```\n",
      "{\n",
      "  \"role\": \"Software Developer\",\n",
      "  \"experience\": \"Entry Level\",\n",
      "  \"skills\": [\n",
      "    \"Java/C/C++/Go/Scala\",\n",
      "    \"SQL databases (Db2, PostgreSQL, MySQL, Oracle, SQL Server)\",\n",
      "    \"Virtualization and Containerization technologies\",\n",
      "    \"Docker and Kubernetes frameworks\",\n",
      "    \"Cloud Services (IBM Cloud, Amazon Web Services, Microsoft Azure)\",\n",
      "    \"Linux/UNIX Operating Systems\",\n",
      "    \"Bash/Perl/Python/Ruby (optional)\"\n",
      "  ],\n",
      "  \"description\": \"Design, develop, test, operate and maintain database features in our products and services and tools to provide a secure environment for the product to be used by customers in the cloud. Evaluate new technologies and processes that enhance our service capabilities. Documenting and sharing your experience, mentoring others.\"\n",
      "}\n",
      "```\n",
      "\n",
      "Let me know if you need any further assistance!\n"
     ]
    }
   ],
   "source": [
    "from langchain_core.prompts import PromptTemplate\n",
    "\n",
    "prompt_extract = PromptTemplate.from_template(\n",
    "    \"\"\"\"\n",
    "        ###Scraped text from the website\n",
    "        {page_data}\n",
    "        ###Instruction\n",
    "        The scraped text of from the career's page of a website.\n",
    "        You job is to extract the job postings and return them in json format containing following keys:\n",
    "        `role`, `experience`, `skills`, and `description`.\n",
    "        ### VALID JSON (NO PREAMBLE)\n",
    "    \"\"\"\n",
    ")\n",
    "\n",
    "chain_extract = prompt_extract | llm \n",
    "res = chain_extract.invoke(input= {'page_data': page_data})\n",
    "print(res.content) #This res object is of type string"
   ]
  },
  {
   "cell_type": "markdown",
   "id": "eedd9761",
   "metadata": {},
   "source": [
    "Converting string 'res' to a JSON object"
   ]
  },
  {
   "cell_type": "code",
   "execution_count": 8,
   "id": "ca57e69a",
   "metadata": {},
   "outputs": [
    {
     "data": {
      "text/plain": [
       "{'role': 'Software Developer',\n",
       " 'experience': 'Entry Level',\n",
       " 'skills': ['Java/C/C++/Go/Scala',\n",
       "  'SQL databases (Db2, PostgreSQL, MySQL, Oracle, SQL Server)',\n",
       "  'Virtualization and Containerization technologies',\n",
       "  'Docker and Kubernetes frameworks',\n",
       "  'Cloud Services (IBM Cloud, Amazon Web Services, Microsoft Azure)',\n",
       "  'Linux/UNIX Operating Systems',\n",
       "  'Bash/Perl/Python/Ruby (optional)'],\n",
       " 'description': 'Design, develop, test, operate and maintain database features in our products and services and tools to provide a secure environment for the product to be used by customers in the cloud. Evaluate new technologies and processes that enhance our service capabilities. Documenting and sharing your experience, mentoring others.'}"
      ]
     },
     "execution_count": 8,
     "metadata": {},
     "output_type": "execute_result"
    }
   ],
   "source": [
    "from langchain_core.output_parsers import JsonOutputParser\n",
    "\n",
    "json_parser = JsonOutputParser()\n",
    "json_res = json_parser.parse(res.content)\n",
    "\n",
    "json_res"
   ]
  },
  {
   "cell_type": "code",
   "execution_count": 9,
   "id": "d736dffa",
   "metadata": {},
   "outputs": [
    {
     "data": {
      "text/html": [
       "<div>\n",
       "<style scoped>\n",
       "    .dataframe tbody tr th:only-of-type {\n",
       "        vertical-align: middle;\n",
       "    }\n",
       "\n",
       "    .dataframe tbody tr th {\n",
       "        vertical-align: top;\n",
       "    }\n",
       "\n",
       "    .dataframe thead th {\n",
       "        text-align: right;\n",
       "    }\n",
       "</style>\n",
       "<table border=\"1\" class=\"dataframe\">\n",
       "  <thead>\n",
       "    <tr style=\"text-align: right;\">\n",
       "      <th></th>\n",
       "      <th>Techstack</th>\n",
       "      <th>Links</th>\n",
       "    </tr>\n",
       "  </thead>\n",
       "  <tbody>\n",
       "    <tr>\n",
       "      <th>0</th>\n",
       "      <td>React, Node.js, MongoDB</td>\n",
       "      <td>https://example.com/react-portfolio</td>\n",
       "    </tr>\n",
       "    <tr>\n",
       "      <th>1</th>\n",
       "      <td>Angular,.NET, SQL Server</td>\n",
       "      <td>https://example.com/angular-portfolio</td>\n",
       "    </tr>\n",
       "    <tr>\n",
       "      <th>2</th>\n",
       "      <td>Vue.js, Ruby on Rails, PostgreSQL</td>\n",
       "      <td>https://example.com/vue-portfolio</td>\n",
       "    </tr>\n",
       "    <tr>\n",
       "      <th>3</th>\n",
       "      <td>Python, Django, MySQL</td>\n",
       "      <td>https://example.com/python-portfolio</td>\n",
       "    </tr>\n",
       "    <tr>\n",
       "      <th>4</th>\n",
       "      <td>Java, Spring Boot, Oracle</td>\n",
       "      <td>https://example.com/java-portfolio</td>\n",
       "    </tr>\n",
       "    <tr>\n",
       "      <th>5</th>\n",
       "      <td>Flutter, Firebase, GraphQL</td>\n",
       "      <td>https://example.com/flutter-portfolio</td>\n",
       "    </tr>\n",
       "    <tr>\n",
       "      <th>6</th>\n",
       "      <td>WordPress, PHP, MySQL</td>\n",
       "      <td>https://example.com/wordpress-portfolio</td>\n",
       "    </tr>\n",
       "    <tr>\n",
       "      <th>7</th>\n",
       "      <td>Magento, PHP, MySQL</td>\n",
       "      <td>https://example.com/magento-portfolio</td>\n",
       "    </tr>\n",
       "    <tr>\n",
       "      <th>8</th>\n",
       "      <td>React Native, Node.js, MongoDB</td>\n",
       "      <td>https://example.com/react-native-portfolio</td>\n",
       "    </tr>\n",
       "    <tr>\n",
       "      <th>9</th>\n",
       "      <td>iOS, Swift, Core Data</td>\n",
       "      <td>https://example.com/ios-portfolio</td>\n",
       "    </tr>\n",
       "    <tr>\n",
       "      <th>10</th>\n",
       "      <td>Android, Java, Room Persistence</td>\n",
       "      <td>https://example.com/android-portfolio</td>\n",
       "    </tr>\n",
       "    <tr>\n",
       "      <th>11</th>\n",
       "      <td>Kotlin, Android, Firebase</td>\n",
       "      <td>https://example.com/kotlin-android-portfolio</td>\n",
       "    </tr>\n",
       "    <tr>\n",
       "      <th>12</th>\n",
       "      <td>Android TV, Kotlin, Android NDK</td>\n",
       "      <td>https://example.com/android-tv-portfolio</td>\n",
       "    </tr>\n",
       "    <tr>\n",
       "      <th>13</th>\n",
       "      <td>iOS, Swift, ARKit</td>\n",
       "      <td>https://example.com/ios-ar-portfolio</td>\n",
       "    </tr>\n",
       "    <tr>\n",
       "      <th>14</th>\n",
       "      <td>Cross-platform, Xamarin, Azure</td>\n",
       "      <td>https://example.com/xamarin-portfolio</td>\n",
       "    </tr>\n",
       "    <tr>\n",
       "      <th>15</th>\n",
       "      <td>Backend, Kotlin, Spring Boot</td>\n",
       "      <td>https://example.com/kotlin-backend-portfolio</td>\n",
       "    </tr>\n",
       "    <tr>\n",
       "      <th>16</th>\n",
       "      <td>Frontend, TypeScript, Angular</td>\n",
       "      <td>https://example.com/typescript-frontend-portfolio</td>\n",
       "    </tr>\n",
       "    <tr>\n",
       "      <th>17</th>\n",
       "      <td>Full-stack, JavaScript, Express.js</td>\n",
       "      <td>https://example.com/full-stack-js-portfolio</td>\n",
       "    </tr>\n",
       "    <tr>\n",
       "      <th>18</th>\n",
       "      <td>Machine Learning, Python, TensorFlow</td>\n",
       "      <td>https://example.com/ml-python-portfolio</td>\n",
       "    </tr>\n",
       "    <tr>\n",
       "      <th>19</th>\n",
       "      <td>DevOps, Jenkins, Docker</td>\n",
       "      <td>https://example.com/devops-portfolio</td>\n",
       "    </tr>\n",
       "  </tbody>\n",
       "</table>\n",
       "</div>"
      ],
      "text/plain": [
       "                               Techstack  \\\n",
       "0                React, Node.js, MongoDB   \n",
       "1               Angular,.NET, SQL Server   \n",
       "2      Vue.js, Ruby on Rails, PostgreSQL   \n",
       "3                  Python, Django, MySQL   \n",
       "4              Java, Spring Boot, Oracle   \n",
       "5             Flutter, Firebase, GraphQL   \n",
       "6                  WordPress, PHP, MySQL   \n",
       "7                    Magento, PHP, MySQL   \n",
       "8         React Native, Node.js, MongoDB   \n",
       "9                  iOS, Swift, Core Data   \n",
       "10       Android, Java, Room Persistence   \n",
       "11             Kotlin, Android, Firebase   \n",
       "12       Android TV, Kotlin, Android NDK   \n",
       "13                     iOS, Swift, ARKit   \n",
       "14        Cross-platform, Xamarin, Azure   \n",
       "15          Backend, Kotlin, Spring Boot   \n",
       "16         Frontend, TypeScript, Angular   \n",
       "17    Full-stack, JavaScript, Express.js   \n",
       "18  Machine Learning, Python, TensorFlow   \n",
       "19               DevOps, Jenkins, Docker   \n",
       "\n",
       "                                                Links  \n",
       "0                 https://example.com/react-portfolio  \n",
       "1               https://example.com/angular-portfolio  \n",
       "2                   https://example.com/vue-portfolio  \n",
       "3                https://example.com/python-portfolio  \n",
       "4                  https://example.com/java-portfolio  \n",
       "5               https://example.com/flutter-portfolio  \n",
       "6             https://example.com/wordpress-portfolio  \n",
       "7               https://example.com/magento-portfolio  \n",
       "8          https://example.com/react-native-portfolio  \n",
       "9                   https://example.com/ios-portfolio  \n",
       "10              https://example.com/android-portfolio  \n",
       "11       https://example.com/kotlin-android-portfolio  \n",
       "12           https://example.com/android-tv-portfolio  \n",
       "13               https://example.com/ios-ar-portfolio  \n",
       "14              https://example.com/xamarin-portfolio  \n",
       "15       https://example.com/kotlin-backend-portfolio  \n",
       "16  https://example.com/typescript-frontend-portfolio  \n",
       "17        https://example.com/full-stack-js-portfolio  \n",
       "18            https://example.com/ml-python-portfolio  \n",
       "19               https://example.com/devops-portfolio  "
      ]
     },
     "execution_count": 9,
     "metadata": {},
     "output_type": "execute_result"
    }
   ],
   "source": [
    "import pandas as pd\n",
    "\n",
    "df = pd.read_csv(\"my_portfolio.csv\")\n",
    "df"
   ]
  },
  {
   "cell_type": "markdown",
   "id": "cf929fef",
   "metadata": {},
   "source": [
    "Creating persistent client will store our records inside the vectorstore folder"
   ]
  },
  {
   "cell_type": "code",
   "execution_count": 10,
   "id": "3d380c67",
   "metadata": {},
   "outputs": [],
   "source": [
    "import uuid\n",
    "import chromadb\n",
    "\n",
    "client = chromadb.PersistentClient('vectorstore')\n",
    "collection = client.get_or_create_collection(name=\"portfolio\")\n",
    "\n",
    "if not collection.count():\n",
    "    for _, row in df.iterrows():\n",
    "        collection.add(documents=row[\"Techstack\"],\n",
    "                       metadatas={\"links\": row[\"Links\"]},\n",
    "                       ids=[str(uuid.uuid4())])"
   ]
  },
  {
   "cell_type": "code",
   "execution_count": 11,
   "id": "ea683279",
   "metadata": {},
   "outputs": [
    {
     "data": {
      "text/plain": [
       "[[{'links': 'https://example.com/ml-python-portfolio'},\n",
       "  {'links': 'https://example.com/python-portfolio'}],\n",
       " [{'links': 'https://example.com/react-portfolio'},\n",
       "  {'links': 'https://example.com/react-native-portfolio'}]]"
      ]
     },
     "execution_count": 11,
     "metadata": {},
     "output_type": "execute_result"
    }
   ],
   "source": [
    "links = collection.query(query_texts=[\"Experience in python\", 'Experience in React'],n_results=2).get('metadatas', [])\n",
    "links"
   ]
  },
  {
   "cell_type": "code",
   "execution_count": 12,
   "id": "f1c42803",
   "metadata": {},
   "outputs": [
    {
     "data": {
      "text/plain": [
       "['Java/C/C++/Go/Scala',\n",
       " 'SQL databases (Db2, PostgreSQL, MySQL, Oracle, SQL Server)',\n",
       " 'Virtualization and Containerization technologies',\n",
       " 'Docker and Kubernetes frameworks',\n",
       " 'Cloud Services (IBM Cloud, Amazon Web Services, Microsoft Azure)',\n",
       " 'Linux/UNIX Operating Systems',\n",
       " 'Bash/Perl/Python/Ruby (optional)']"
      ]
     },
     "execution_count": 12,
     "metadata": {},
     "output_type": "execute_result"
    }
   ],
   "source": [
    "job = json_res\n",
    "job['skills']"
   ]
  },
  {
   "cell_type": "code",
   "execution_count": 13,
   "id": "c8cf9383",
   "metadata": {},
   "outputs": [
    {
     "data": {
      "text/plain": [
       "[[{'links': 'https://example.com/java-portfolio'},\n",
       "  {'links': 'https://example.com/android-portfolio'}],\n",
       " [{'links': 'https://example.com/magento-portfolio'},\n",
       "  {'links': 'https://example.com/wordpress-portfolio'}],\n",
       " [{'links': 'https://example.com/devops-portfolio'},\n",
       "  {'links': 'https://example.com/xamarin-portfolio'}],\n",
       " [{'links': 'https://example.com/devops-portfolio'},\n",
       "  {'links': 'https://example.com/kotlin-backend-portfolio'}],\n",
       " [{'links': 'https://example.com/xamarin-portfolio'},\n",
       "  {'links': 'https://example.com/angular-portfolio'}],\n",
       " [{'links': 'https://example.com/java-portfolio'},\n",
       "  {'links': 'https://example.com/magento-portfolio'}],\n",
       " [{'links': 'https://example.com/vue-portfolio'},\n",
       "  {'links': 'https://example.com/python-portfolio'}]]"
      ]
     },
     "execution_count": 13,
     "metadata": {},
     "output_type": "execute_result"
    }
   ],
   "source": [
    "links = collection.query(query_texts=job['skills'],n_results=2).get('metadatas', [])\n",
    "links"
   ]
  },
  {
   "cell_type": "code",
   "execution_count": 14,
   "id": "53a3dd77",
   "metadata": {},
   "outputs": [
    {
     "name": "stdout",
     "output_type": "stream",
     "text": [
      "Subject: Expert Software Development Services for Your Cloud-Based Product\n",
      "\n",
      "Dear [Client],\n",
      "\n",
      "I came across your job posting for a Software Developer and was impressed by the scope of the project. As a Business Development Executive at Innovex Solutions, I believe our team can provide the expertise you need to design, develop, test, operate, and maintain database features for your cloud-based product.\n",
      "\n",
      "Our team of skilled software developers has extensive experience in Java/C/C++/Go/Scala, SQL databases (Db2, PostgreSQL, MySQL, Oracle, SQL Server), Virtualization and Containerization technologies, Docker and Kubernetes frameworks, Cloud Services (IBM Cloud, Amazon Web Services, Microsoft Azure), and Linux/UNIX Operating Systems. We're confident that our expertise will help you create a secure environment for your product to thrive in the cloud.\n",
      "\n",
      "At Innovex Solutions, we've successfully delivered numerous projects that showcase our capabilities in software development, DevOps, and cloud services. I'd like to highlight a few relevant examples from our portfolio:\n",
      "\n",
      "* Our Java expertise is demonstrated in projects like [https://example.com/java-portfolio](https://example.com/java-portfolio), where we developed a scalable e-commerce platform for a leading retailer.\n",
      "* Our experience with DevOps and containerization is evident in [https://example.com/devops-portfolio](https://example.com/devops-portfolio), where we optimized the deployment process for a fintech company, resulting in significant cost savings.\n",
      "\n",
      "We're committed to staying up-to-date with the latest technologies and processes, ensuring that our clients receive the best possible solutions. Our team is dedicated to documenting and sharing their experience, mentoring others, and continuously improving our services.\n",
      "\n",
      "I'd be delighted to discuss how Innovex Solutions can support your project requirements. Please let me know if you're interested in exploring this opportunity further.\n",
      "\n",
      "Best regards,\n",
      "\n",
      "Atharva\n",
      "Business Development Executive\n",
      "Innovex Solutions\n"
     ]
    }
   ],
   "source": [
    "prompt_email = PromptTemplate.from_template(\n",
    "    \"\"\"\n",
    "    ### JOB DESCRIPTION:\n",
    "    {job_description}\n",
    "    \n",
    "    ### INSTRUCTION:\n",
    "    You are Atharva, a business development executive at Innovex Solutions, an AI & Software Consulting company dedicated to facilitating\n",
    "    the seamless integration of business processes through automated tools. \n",
    "    Over our experience, we have empowered numerous enterprises with tailored solutions, fostering scalability, \n",
    "    process optimization, cost reduction, and heightened overall efficiency. \n",
    "    Your job is to write a cold email to the client regarding the job mentioned above, describing the capability of Innovex Solutions \n",
    "    in fulfilling their needs.\n",
    "    Also, add the most relevant ones from the following links to showcase Innovex Solutions' portfolio: {link_list}\n",
    "    Remember you are Atharva, BDE at Innovex Solutions. \n",
    "    Do not provide a preamble.\n",
    "    ### EMAIL (NO PREAMBLE):\n",
    "    \n",
    "    \"\"\"\n",
    ")\n",
    "\n",
    "chain_email = prompt_email | llm\n",
    "res = chain_email.invoke({\"job_description\": str(job), \"link_list\": links})\n",
    "print(res.content)\n"
   ]
  }
 ],
 "metadata": {
  "kernelspec": {
   "display_name": "Python 3 (ipykernel)",
   "language": "python",
   "name": "python3"
  },
  "language_info": {
   "codemirror_mode": {
    "name": "ipython",
    "version": 3
   },
   "file_extension": ".py",
   "mimetype": "text/x-python",
   "name": "python",
   "nbconvert_exporter": "python",
   "pygments_lexer": "ipython3",
   "version": "3.10.11"
  }
 },
 "nbformat": 4,
 "nbformat_minor": 5
}
